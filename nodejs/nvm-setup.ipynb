{
 "cells": [
  {
   "cell_type": "code",
   "execution_count": null,
   "id": "1c870a60",
   "metadata": {
    "vscode": {
     "languageId": "plaintext"
    }
   },
   "outputs": [],
   "source": [
    "#commnds in terminal:\n",
    "\n",
    "nvm where\n",
    "nvm install 22.12\n",
    "nvm use 22.12"
   ]
  },
  {
   "cell_type": "markdown",
   "id": "a2bdbec5",
   "metadata": {},
   "source": [
    "# error"
   ]
  },
  {
   "cell_type": "code",
   "execution_count": null,
   "id": "55571c77",
   "metadata": {
    "vscode": {
     "languageId": "plaintext"
    }
   },
   "outputs": [],
   "source": [
    "\n",
    "32 packages are looking for funding\n",
    "  run `npm fund` for details\n",
    "\n",
    "found 0 vulnerabilities\n",
    "│\n",
    "◇  Starting dev server...\n",
    "\n",
    "> frontend@0.0.0 dev\n",
    "> vite\n",
    "\n",
    "You are using Node.js 18.20.6. Vite requires Node.js version 20.19+ or 22.12+. Please upgrade your Node.js version.\n",
    "error when starting dev server:\n",
    "TypeError: crypto.hash is not a function\n",
    "npm error path C:\\Users\\Desktop\\A.i project dashboard\\A.I-PROJECT-DASHBOARD\n",
    "npm error command failed\n",
    "npm error command C:\\Windows\\system32\\cmd.exe /d /s /c create-vite\n",
    "npm notice\n",
    "npm notice New major version of npm available! 10.8.2 -> 11.6.2\n",
    "npm notice Changelog: https://github.com/npm/cli/releases/tag/v11.6.2\n",
    "npm notice To update run: npm install -g npm@11.6.2\n",
    "npm notice\n",
    "npm error A complete log of this run can be found in: C:\\Users\\AppData\\Local\\npm-cache\\_logs\\2025-10-10T05_22_21_272Z-debug-0.log\n",
    "\n",
    "C:\\Users\\Desktop\\A.i project dashboard\\A.I-PROJECT-DASHBOARD>nvm use 22.12\n",
    "'nvm' is not recognized as an internal or external command,\n",
    "operable program or batch file.\n"
   ]
  },
  {
   "cell_type": "markdown",
   "id": "97a8c77f",
   "metadata": {},
   "source": [
    "# solution"
   ]
  },
  {
   "cell_type": "markdown",
   "id": "49fc7421",
   "metadata": {
    "vscode": {
     "languageId": "plaintext"
    }
   },
   "source": [
    "That error —\n",
    "\n",
    "> `'nvm' is not recognized as an internal or external command`\n",
    "\n",
    "— means **Node Version Manager (NVM)** isn’t installed or isn’t added to your Windows system’s PATH.\n",
    "\n",
    "Let’s fix it step by step 👇\n",
    "\n",
    "---\n",
    "\n",
    "### 🧩 Step 1: Check if you have NVM installed\n",
    "\n",
    "Open PowerShell or CMD and run:\n",
    "\n",
    "```cmd\n",
    "where nvm\n",
    "```\n",
    "\n",
    "* If it shows no path → NVM is **not installed** or **not added to PATH**.\n",
    "* If it shows something like:\n",
    "\n",
    "  ```\n",
    "  C:\\Program Files\\nvm\\nvm.exe\n",
    "  ```\n",
    "\n",
    "  then it’s installed but the path may not be active.\n",
    "\n",
    "---\n",
    "\n",
    "### 🧰 Step 2: If NVM is not installed\n",
    "\n",
    "1. Go to the official Windows NVM GitHub page:\n",
    "   👉 [https://github.com/coreybutler/nvm-windows/releases](https://github.com/coreybutler/nvm-windows/releases)\n",
    "2. Download the **latest `nvm-setup.exe`** (e.g., `nvm-setup.zip`).\n",
    "3. Run the installer:\n",
    "\n",
    "   * Choose installation folder like `C:\\Program Files\\nvm`\n",
    "   * It’ll also ask for a folder for Node versions (e.g., `C:\\Program Files\\nodejs`)\n",
    "4. After install, **close and reopen CMD**.\n",
    "\n",
    "---\n",
    "\n",
    "### 🧮 Step 3: Verify installation\n",
    "\n",
    "Run:\n",
    "\n",
    "```cmd\n",
    "nvm version\n",
    "```\n",
    "\n",
    "If it shows something like `1.1.12`, you’re good 👍\n",
    "\n",
    "---\n",
    "\n",
    "### 🧠 Step 4: Install and use Node 22\n",
    "\n",
    "Now you can do:\n",
    "\n",
    "```cmd\n",
    "nvm install 22.12.0\n",
    "nvm use 22.12.0\n",
    "```\n",
    "\n",
    "Then check:\n",
    "\n",
    "```cmd\n",
    "node -v\n",
    "```\n",
    "\n",
    "Should show:\n",
    "\n",
    "```\n",
    "v22.12.0\n",
    "```\n",
    "\n",
    "---\n",
    "\n",
    "### ⚠️ Step 5 (Optional): If still not recognized\n",
    "\n",
    "You might need to manually add NVM to your PATH:\n",
    "\n",
    "1. Press **Win + R → sysdm.cpl → Advanced → Environment Variables**\n",
    "2. Under “System variables” → select `Path` → Edit → Add:\n",
    "\n",
    "   ```\n",
    "   C:\\Program Files\\nvm\n",
    "   C:\\Program Files\\nodejs\n",
    "   ```\n",
    "3. Click OK and reopen your terminal.\n",
    "\n",
    "---\n",
    "\n",
    "Would you like me to give you a **ready-to-copy PATH setup command** (for PowerShell) to fix it automatically?\n"
   ]
  },
  {
   "cell_type": "code",
   "execution_count": null,
   "id": "115d621c",
   "metadata": {
    "vscode": {
     "languageId": "plaintext"
    }
   },
   "outputs": [],
   "source": [
    "#sometimes we may get error slike thus , use node version ,\n"
   ]
  },
  {
   "cell_type": "code",
   "execution_count": null,
   "id": "b31cda8e",
   "metadata": {
    "vscode": {
     "languageId": "plaintext"
    }
   },
   "outputs": [],
   "source": []
  }
 ],
 "metadata": {
  "language_info": {
   "name": "python"
  }
 },
 "nbformat": 4,
 "nbformat_minor": 5
}
