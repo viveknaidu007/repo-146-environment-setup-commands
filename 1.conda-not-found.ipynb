{
 "cells": [
  {
   "cell_type": "markdown",
   "id": "e7687163",
   "metadata": {
    "vscode": {
     "languageId": "plaintext"
    }
   },
   "source": [
    "# error:"
   ]
  },
  {
   "cell_type": "code",
   "execution_count": null,
   "id": "25e67995",
   "metadata": {},
   "outputs": [],
   "source": [
    "C:\\Users\\vivek>conda update conda\n",
    "'conda' is not recognized as an internal or external command,\n",
    "operable program or batch file.\n",
    "\n",
    "i already installed miniconda ,\n",
    "\n",
    "but u  can see it not wokin ,\n",
    "\n",
    "?\n",
    "\n",
    "what ca be issue ,\n",
    "\n",
    "or i ahev to add any path , ?"
   ]
  },
  {
   "cell_type": "markdown",
   "id": "900eb7d4",
   "metadata": {},
   "source": [
    "# so when ever we insatlled hte conda.exe at first , we have to set the path ,"
   ]
  },
  {
   "cell_type": "markdown",
   "id": "947bef21",
   "metadata": {},
   "source": [
    "# solution :"
   ]
  },
  {
   "cell_type": "markdown",
   "id": "07571e26",
   "metadata": {},
   "source": [
    "\n",
    "That happens when the Miniconda installation directory is not added to your PATH."
   ]
  },
  {
   "cell_type": "markdown",
   "id": "46c6f8a8",
   "metadata": {},
   "source": []
  },
  {
   "cell_type": "markdown",
   "id": "da43020c",
   "metadata": {},
   "source": [
    "the issue is that Windows doesn’t know where your `conda` command is located.\n",
    "That happens when the **Miniconda installation directory is not added to your PATH**.\n",
    "\n",
    "Here’s how you can fix it:\n",
    "\n",
    "---\n",
    "\n",
    "### 1. Find where Miniconda is installed\n",
    "\n",
    "Usually it installs to one of these locations:\n",
    "\n",
    "* `C:\\Users\\<your-username>\\Miniconda3\\`\n",
    "* `C:\\ProgramData\\Miniconda3\\`\n",
    "\n",
    "Inside that folder you should see `condabin\\`, `Scripts\\`, and `Library\\`.\n",
    "\n",
    "and sometimes , it may install in this deafult location folders :\n",
    "\n",
    "* `C:\\ProgramData\\miniconda3`\n",
    "\n",
    "---\n",
    "\n",
    "### 2. Add conda to PATH (temporary test)\n",
    "\n",
    "Open **Command Prompt** and run:\n",
    "\n",
    "```bat\n",
    "C:\\Users\\<your-username>\\Miniconda3\\Scripts\\conda.exe --version\n",
    "```\n",
    "\n",
    "If that shows a version, it means conda works but isn’t in PATH.\n",
    "\n",
    "---\n",
    "\n",
    "### 3. Add conda to PATH permanently\n",
    "\n",
    "You need to add these two directories to your PATH:\n",
    "\n",
    "* `C:\\Users\\<your-username>\\Miniconda3\\Scripts`\n",
    "* `C:\\Users\\<your-username>\\Miniconda3\\condabin`\n",
    "\n",
    "Steps:\n",
    "\n",
    "1. Press **Win + R** → type `sysdm.cpl` → Enter\n",
    "2. Go to **Advanced** → **Environment Variables**\n",
    "3. Under *System variables*, find `Path` → Edit → Add New\n",
    "\n",
    "   * Add both paths listed above\n",
    "4. Click OK → restart Command Prompt\n",
    "\n",
    "Now run:\n",
    "\n",
    "```bat\n",
    "conda --version\n",
    "```\n",
    "\n",
    "---\n",
    "\n",
    "### 4. (Alternative) Use the Anaconda Prompt\n",
    "\n",
    "Miniconda also installs an **Anaconda Prompt** shortcut in Start Menu.\n",
    "If you open that, `conda` will already work because it configures the environment automatically.\n",
    "\n",
    "---\n"
   ]
  },
  {
   "cell_type": "code",
   "execution_count": null,
   "id": "88959217",
   "metadata": {},
   "outputs": [],
   "source": []
  }
 ],
 "metadata": {
  "kernelspec": {
   "display_name": "base",
   "language": "python",
   "name": "python3"
  },
  "language_info": {
   "name": "python",
   "version": "3.13.5"
  }
 },
 "nbformat": 4,
 "nbformat_minor": 5
}
